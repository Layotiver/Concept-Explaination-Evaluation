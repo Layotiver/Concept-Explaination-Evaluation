{
 "cells": [
  {
   "cell_type": "code",
   "execution_count": 1,
   "metadata": {},
   "outputs": [
    {
     "name": "stderr",
     "output_type": "stream",
     "text": [
      "2024-01-22 17:27:03,075 - INFO - PyTorch version 2.1.1 available.\n",
      "194it [00:00, 697.61it/s]\n"
     ]
    },
    {
     "name": "stdout",
     "output_type": "stream",
     "text": [
      "Skipped:\n",
      "{'total_sents': 194}\n",
      "\n",
      "Total: 0\n",
      "Processing af-um-dev.conllu...\n",
      "loading model successfully!\n",
      "\n"
     ]
    },
    {
     "name": "stderr",
     "output_type": "stream",
     "text": [
      "100%|██████████| 194/194 [00:00<00:00, 494.85it/s]\n",
      "100%|██████████| 194/194 [00:03<00:00, 57.36it/s]\n",
      "425it [00:00, 795.58it/s] \n"
     ]
    },
    {
     "name": "stdout",
     "output_type": "stream",
     "text": [
      "Skipped:\n",
      "{'total_sents': 425}\n",
      "\n",
      "Total: 0\n",
      "Processing af-um-test.conllu...\n",
      "loading model successfully!\n",
      "\n"
     ]
    },
    {
     "name": "stderr",
     "output_type": "stream",
     "text": [
      "100%|██████████| 425/425 [00:00<00:00, 567.27it/s]\n",
      "100%|██████████| 425/425 [00:05<00:00, 78.33it/s]\n",
      "1315it [00:02, 624.04it/s]\n"
     ]
    },
    {
     "name": "stdout",
     "output_type": "stream",
     "text": [
      "Skipped:\n",
      "{'total_sents': 1315}\n",
      "\n",
      "Total: 0\n",
      "Processing af-um-train.conllu...\n",
      "loading model successfully!\n",
      "\n"
     ]
    },
    {
     "name": "stderr",
     "output_type": "stream",
     "text": [
      "100%|██████████| 1315/1315 [00:03<00:00, 366.06it/s]\n",
      "100%|██████████| 1315/1315 [00:19<00:00, 66.12it/s]\n",
      "500it [00:00, 926.79it/s]\n"
     ]
    },
    {
     "name": "stdout",
     "output_type": "stream",
     "text": [
      "Skipped:\n",
      "{'total_sents': 500}\n",
      "\n",
      "Total: 0\n",
      "Processing zh-um-test.conllu...\n",
      "loading model successfully!\n",
      "\n"
     ]
    },
    {
     "name": "stderr",
     "output_type": "stream",
     "text": [
      "100%|██████████| 500/500 [00:00<00:00, 635.76it/s]\n",
      "100%|██████████| 500/500 [00:07<00:00, 64.00it/s]\n",
      "3997it [00:05, 695.18it/s]\n"
     ]
    },
    {
     "name": "stdout",
     "output_type": "stream",
     "text": [
      "Skipped:\n",
      "{'total_sents': 3997}\n",
      "\n",
      "Total: 0\n",
      "Processing zh-um-train.conllu...\n",
      "loading model successfully!\n",
      "\n"
     ]
    },
    {
     "name": "stderr",
     "output_type": "stream",
     "text": [
      "100%|██████████| 3997/3997 [00:09<00:00, 413.84it/s]\n",
      "100%|██████████| 3997/3997 [01:00<00:00, 66.49it/s]\n",
      "500it [00:00, 846.21it/s]\n"
     ]
    },
    {
     "name": "stdout",
     "output_type": "stream",
     "text": [
      "Skipped:\n",
      "{'total_sents': 500}\n",
      "\n",
      "Total: 0\n",
      "Processing zh-um-dev.conllu...\n",
      "loading model successfully!\n",
      "\n"
     ]
    },
    {
     "name": "stderr",
     "output_type": "stream",
     "text": [
      "100%|██████████| 500/500 [00:01<00:00, 358.84it/s]\n",
      "100%|██████████| 500/500 [00:07<00:00, 65.88it/s]\n",
      "12543it [00:12, 1030.61it/s]\n"
     ]
    },
    {
     "name": "stdout",
     "output_type": "stream",
     "text": [
      "Skipped:\n",
      "{'total_sents': 12543}\n",
      "\n",
      "Total: 0\n",
      "Processing en-um-train.conllu...\n",
      "loading model successfully!\n",
      "\n"
     ]
    },
    {
     "name": "stderr",
     "output_type": "stream",
     "text": [
      "100%|██████████| 12543/12543 [00:23<00:00, 536.76it/s] \n",
      "100%|██████████| 12543/12543 [03:01<00:00, 69.26it/s]\n",
      "2077it [00:02, 1034.07it/s]\n"
     ]
    },
    {
     "name": "stdout",
     "output_type": "stream",
     "text": [
      "Skipped:\n",
      "{'total_sents': 2077}\n",
      "\n",
      "Total: 0\n",
      "Processing en-um-test.conllu...\n",
      "loading model successfully!\n",
      "\n"
     ]
    },
    {
     "name": "stderr",
     "output_type": "stream",
     "text": [
      "100%|██████████| 2077/2077 [00:03<00:00, 598.87it/s] \n",
      "100%|██████████| 2077/2077 [00:31<00:00, 66.67it/s]\n",
      "2002it [00:01, 1495.44it/s]\n"
     ]
    },
    {
     "name": "stdout",
     "output_type": "stream",
     "text": [
      "Skipped:\n",
      "{'total_sents': 2002}\n",
      "\n",
      "Total: 0\n",
      "Processing en-um-dev.conllu...\n",
      "loading model successfully!\n",
      "\n"
     ]
    },
    {
     "name": "stderr",
     "output_type": "stream",
     "text": [
      "100%|██████████| 2002/2002 [00:03<00:00, 533.97it/s] \n",
      "100%|██████████| 2002/2002 [00:28<00:00, 70.24it/s]\n"
     ]
    }
   ],
   "source": [
    "from extractors.intrinsic_probing import IntrinsicProbingExtractor\n",
    "from config import cfg as default_cfg\n",
    "from transformers import BertTokenizer, BertModel\n",
    "\n",
    "cfg = default_cfg\n",
    "model_path = cfg['model_dir']\n",
    "device     = cfg['device']\n",
    "bert_model = BertModel.from_pretrained(model_path)\n",
    "bert_tokenizer = BertTokenizer.from_pretrained(model_path)\n",
    "bert_model.to(device)\n",
    "\n",
    "extractor = IntrinsicProbingExtractor(cfg=cfg, is_hf_model=True, model=bert_model, tokenizer=bert_tokenizer)\n",
    "file_path_for_bert = './scripts/languages_common_selected2.lst'\n",
    "file_path_for_fasttext = './scripts/languages_common_selected.lst'\n",
    "\n",
    "# 打开文件并按行读取内容\n",
    "with open(file_path_for_bert, 'r') as file:\n",
    "    lines = file.readlines()\n",
    "\n",
    "for line in lines:\n",
    "    line = line.strip()\n",
    "    extractor.extract_concepts(language=line)"
   ]
  }
 ],
 "metadata": {
  "kernelspec": {
   "display_name": "xxx",
   "language": "python",
   "name": "python3"
  },
  "language_info": {
   "codemirror_mode": {
    "name": "ipython",
    "version": 3
   },
   "file_extension": ".py",
   "mimetype": "text/x-python",
   "name": "python",
   "nbconvert_exporter": "python",
   "pygments_lexer": "ipython3",
   "version": "3.8.13"
  },
  "orig_nbformat": 4
 },
 "nbformat": 4,
 "nbformat_minor": 2
}
